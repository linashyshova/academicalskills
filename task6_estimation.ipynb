{
 "cells": [
  {
   "cell_type": "code",
   "execution_count": 66,
   "metadata": {
    "collapsed": true,
    "ExecuteTime": {
     "end_time": "2023-06-24T13:50:56.958769Z",
     "start_time": "2023-06-24T13:50:56.937400Z"
    }
   },
   "outputs": [],
   "source": [
    "import numpy as np\n",
    "import pandas as pd\n",
    "import scipy\n",
    "import seaborn as sns\n",
    "\n",
    "sns.set_theme(style='white')"
   ]
  },
  {
   "cell_type": "code",
   "execution_count": 67,
   "outputs": [
    {
     "data": {
      "text/plain": "           date  weekday  main street A  main street B  station A  station B\n0    2016-05-11        3           2.23            NaN        NaN        NaN\n1    2016-05-12        4          18.10            NaN        NaN        NaN\n2    2016-05-13        5          15.85            NaN        NaN        NaN\n3    2016-05-14        6          14.22            NaN        NaN        NaN\n4    2016-05-15        7           2.58            NaN        NaN        NaN\n...         ...      ...            ...            ...        ...        ...\n2572 2023-05-27        6         168.05          32.34      76.97     114.30\n2573 2023-05-28        7          44.62          32.85      80.21      91.25\n2574 2023-05-29        1          64.11         116.84     149.75      92.56\n2575 2023-05-30        2         103.63         134.48     194.03      75.63\n2576 2023-05-31        3          39.64         125.87     165.43      74.41\n\n[2577 rows x 6 columns]",
      "text/html": "<div>\n<style scoped>\n    .dataframe tbody tr th:only-of-type {\n        vertical-align: middle;\n    }\n\n    .dataframe tbody tr th {\n        vertical-align: top;\n    }\n\n    .dataframe thead th {\n        text-align: right;\n    }\n</style>\n<table border=\"1\" class=\"dataframe\">\n  <thead>\n    <tr style=\"text-align: right;\">\n      <th></th>\n      <th>date</th>\n      <th>weekday</th>\n      <th>main street A</th>\n      <th>main street B</th>\n      <th>station A</th>\n      <th>station B</th>\n    </tr>\n  </thead>\n  <tbody>\n    <tr>\n      <th>0</th>\n      <td>2016-05-11</td>\n      <td>3</td>\n      <td>2.23</td>\n      <td>NaN</td>\n      <td>NaN</td>\n      <td>NaN</td>\n    </tr>\n    <tr>\n      <th>1</th>\n      <td>2016-05-12</td>\n      <td>4</td>\n      <td>18.10</td>\n      <td>NaN</td>\n      <td>NaN</td>\n      <td>NaN</td>\n    </tr>\n    <tr>\n      <th>2</th>\n      <td>2016-05-13</td>\n      <td>5</td>\n      <td>15.85</td>\n      <td>NaN</td>\n      <td>NaN</td>\n      <td>NaN</td>\n    </tr>\n    <tr>\n      <th>3</th>\n      <td>2016-05-14</td>\n      <td>6</td>\n      <td>14.22</td>\n      <td>NaN</td>\n      <td>NaN</td>\n      <td>NaN</td>\n    </tr>\n    <tr>\n      <th>4</th>\n      <td>2016-05-15</td>\n      <td>7</td>\n      <td>2.58</td>\n      <td>NaN</td>\n      <td>NaN</td>\n      <td>NaN</td>\n    </tr>\n    <tr>\n      <th>...</th>\n      <td>...</td>\n      <td>...</td>\n      <td>...</td>\n      <td>...</td>\n      <td>...</td>\n      <td>...</td>\n    </tr>\n    <tr>\n      <th>2572</th>\n      <td>2023-05-27</td>\n      <td>6</td>\n      <td>168.05</td>\n      <td>32.34</td>\n      <td>76.97</td>\n      <td>114.30</td>\n    </tr>\n    <tr>\n      <th>2573</th>\n      <td>2023-05-28</td>\n      <td>7</td>\n      <td>44.62</td>\n      <td>32.85</td>\n      <td>80.21</td>\n      <td>91.25</td>\n    </tr>\n    <tr>\n      <th>2574</th>\n      <td>2023-05-29</td>\n      <td>1</td>\n      <td>64.11</td>\n      <td>116.84</td>\n      <td>149.75</td>\n      <td>92.56</td>\n    </tr>\n    <tr>\n      <th>2575</th>\n      <td>2023-05-30</td>\n      <td>2</td>\n      <td>103.63</td>\n      <td>134.48</td>\n      <td>194.03</td>\n      <td>75.63</td>\n    </tr>\n    <tr>\n      <th>2576</th>\n      <td>2023-05-31</td>\n      <td>3</td>\n      <td>39.64</td>\n      <td>125.87</td>\n      <td>165.43</td>\n      <td>74.41</td>\n    </tr>\n  </tbody>\n</table>\n<p>2577 rows × 6 columns</p>\n</div>"
     },
     "execution_count": 67,
     "metadata": {},
     "output_type": "execute_result"
    }
   ],
   "source": [
    "data = pd.read_excel('data/BakeryData_Vilnius.xlsx')\n",
    "data['date'] = pd.to_datetime(data['date'], format='%Y-%m-%d')\n",
    "data"
   ],
   "metadata": {
    "collapsed": false,
    "ExecuteTime": {
     "end_time": "2023-06-24T13:50:57.020184Z",
     "start_time": "2023-06-24T13:50:56.941132Z"
    }
   }
  },
  {
   "cell_type": "code",
   "execution_count": 68,
   "outputs": [],
   "source": [
    "# filter out corona data and data before 2017\n",
    "def filter_out_data(data):\n",
    "    start_corona_remove = pd.to_datetime('2020-10-01')\n",
    "    end_corona_remove = pd.to_datetime('2022-10-01')\n",
    "    start_remove = pd.to_datetime('2017-01-01')\n",
    "    filtered_data = data.loc[(data.date < start_corona_remove) | (data.date > end_corona_remove)]\n",
    "    filtered_data = filtered_data.loc[(filtered_data.date > start_remove)]\n",
    "    return filtered_data\n",
    "\n",
    "\n",
    "def calculate_tau(p, c, cs, pl):\n",
    "    p_tilde = p + cs + pl\n",
    "    c_tilde = c + cs + pl\n",
    "    return (p_tilde - c_tilde) / p_tilde\n",
    "\n",
    "\n",
    "def bootstrap_interval_estimate_normal(tau, params):\n",
    "    estimations = []\n",
    "    for _ in range(M):\n",
    "        data = scipy.stats.norm.rvs(size=n, loc=params[0], scale=params[1])\n",
    "        generated_params = scipy.stats.norm.fit(data)\n",
    "        estimate = scipy.stats.norm.ppf(tau, loc=generated_params[0], scale=generated_params[1])\n",
    "        estimations.append(estimate)\n",
    "\n",
    "    [lower, upper] = np.quantile(estimations, [alpha / 2, 1 - alpha / 2])\n",
    "    return lower, upper\n",
    "\n",
    "\n",
    "def bootstrap_interval_estimate_lognormal(tau, params):\n",
    "    estimations = []\n",
    "    for _ in range(M):\n",
    "        data = scipy.stats.lognorm.rvs(size=n, s=params[0], loc=params[1], scale=params[2])\n",
    "        generated_params = scipy.stats.lognorm.fit(data)\n",
    "        estimate = scipy.stats.lognorm.ppf(tau, s=generated_params[0], loc=generated_params[1],\n",
    "                                           scale=generated_params[2])\n",
    "        estimations.append(estimate)\n",
    "\n",
    "    [lower, upper] = np.quantile(estimations, [alpha / 2, 1 - alpha / 2])\n",
    "    return lower, upper\n",
    "\n",
    "\n",
    "def bootstrap_interval_estimate_gamma(tau, params):\n",
    "    estimations = []\n",
    "    for _ in range(M):\n",
    "        data = scipy.stats.gamma.rvs(size=n, a=params[0], loc=params[1], scale=params[2])\n",
    "        generated_params = scipy.stats.gamma.fit(data)\n",
    "        estimate = scipy.stats.gamma.ppf(tau, a=generated_params[0], loc=generated_params[1], scale=generated_params[2])\n",
    "        estimations.append(estimate)\n",
    "\n",
    "    [lower, upper] = np.quantile(estimations, [alpha / 2, 1 - alpha / 2])\n",
    "    return lower, upper\n",
    "\n",
    "\n",
    "def quantity_estimate_nonparametric(data, tau):\n",
    "    position = int(np.ceil(n * tau))\n",
    "    return sorted(data)[position]\n",
    "\n",
    "\n",
    "def interval_estimate_nonparametric(data, alpha, tau):\n",
    "    quantile = scipy.stats.norm.ppf(1 - alpha / 2)\n",
    "    diapason = quantile * np.sqrt(len(data) * tau * (1 - tau))\n",
    "    lower = int(np.ceil(n * tau - diapason))\n",
    "    upper = int(np.ceil(n * tau + diapason))\n",
    "    return sorted(data)[lower], sorted(data)[upper]"
   ],
   "metadata": {
    "collapsed": false,
    "ExecuteTime": {
     "end_time": "2023-06-24T13:50:57.026137Z",
     "start_time": "2023-06-24T13:50:57.024545Z"
    }
   }
  },
  {
   "cell_type": "code",
   "execution_count": 69,
   "outputs": [],
   "source": [
    "streetAData = data[['date', 'weekday', 'main street A']].rename(columns={'main street A': 'values'}).dropna()\n",
    "stationAData = data[['date', 'weekday', 'station A']].rename(columns={'station A': 'values'}).dropna()\n",
    "\n",
    "filtered_data_streeta = filter_out_data(streetAData)\n",
    "filtered_data_stationa = filter_out_data(stationAData)"
   ],
   "metadata": {
    "collapsed": false,
    "ExecuteTime": {
     "end_time": "2023-06-24T13:50:57.032883Z",
     "start_time": "2023-06-24T13:50:57.027502Z"
    }
   }
  },
  {
   "cell_type": "code",
   "execution_count": 70,
   "outputs": [],
   "source": [
    "# Main Store A\n",
    "other_days, saturdays = [x for _, x in filtered_data_streeta.groupby(filtered_data_streeta['weekday'] == 6)]\n",
    "other_days, fridays = [x for _, x in other_days.groupby(filtered_data_streeta['weekday'] == 5)]\n",
    "\n",
    "# Station A\n",
    "weekend, weekdays = [x for _, x in filtered_data_stationa.groupby(filtered_data_streeta['weekday'] <= 5)]"
   ],
   "metadata": {
    "collapsed": false,
    "ExecuteTime": {
     "end_time": "2023-06-24T13:50:57.038391Z",
     "start_time": "2023-06-24T13:50:57.034595Z"
    }
   }
  },
  {
   "cell_type": "code",
   "execution_count": 71,
   "outputs": [
    {
     "name": "stdout",
     "output_type": "stream",
     "text": [
      "Tau Main street A 0.16122448979591836\n",
      "Optimal quantity for Fridays 93.8357081278314\n",
      "Optimal quantity for Saturdays 138.23533164833452\n",
      "Optimal quantity for other days 41.26652937704263\n"
     ]
    }
   ],
   "source": [
    "fridays_params = scipy.stats.norm.fit(fridays['values'])\n",
    "saturdays_params = scipy.stats.norm.fit(saturdays['values'])\n",
    "other_days_params = scipy.stats.lognorm.fit(other_days['values'])\n",
    "\n",
    "tau_street_a = calculate_tau(4.64, 3.85, 0.11, 0.15)\n",
    "\n",
    "fridays_optimal = scipy.stats.norm.ppf(tau_street_a, loc=fridays_params[0], scale=fridays_params[1])\n",
    "saturdays_optimal = scipy.stats.norm.ppf(tau_street_a, loc=saturdays_params[0], scale=saturdays_params[1])\n",
    "other_days_optimal = scipy.stats.lognorm.ppf(tau_street_a, s=other_days_params[0], loc=other_days_params[1],\n",
    "                                             scale=other_days_params[2])\n",
    "\n",
    "print(\"Tau Main street A\", tau_street_a)\n",
    "print(\"Optimal quantity for Fridays\", fridays_optimal)\n",
    "print(\"Optimal quantity for Saturdays\", saturdays_optimal)\n",
    "print(\"Optimal quantity for other days\", other_days_optimal)"
   ],
   "metadata": {
    "collapsed": false,
    "ExecuteTime": {
     "end_time": "2023-06-24T13:50:57.095383Z",
     "start_time": "2023-06-24T13:50:57.040365Z"
    }
   }
  },
  {
   "cell_type": "code",
   "execution_count": 72,
   "outputs": [
    {
     "name": "stdout",
     "output_type": "stream",
     "text": [
      "Tau Station A 0.19090909090909106\n",
      "Optimal quantity for weekdays 125.83470187445616\n",
      "Optimal quantity for weekend 67.32772261478024\n"
     ]
    }
   ],
   "source": [
    "weekdays_params = scipy.stats.gamma.fit(weekdays['values'])\n",
    "weekend_params = scipy.stats.norm.fit(weekend['values'])\n",
    "\n",
    "tau_station_a = calculate_tau(4.16, 3.32, 0.09, 0.15)\n",
    "\n",
    "weekdays_optimal = scipy.stats.gamma.ppf(tau_station_a, a=weekdays_params[0], loc=weekdays_params[1],\n",
    "                                         scale=weekdays_params[2])\n",
    "weekend_optimal = scipy.stats.norm.ppf(tau_station_a, loc=weekend_params[0], scale=weekend_params[1])\n",
    "\n",
    "print(\"Tau Station A\", tau_station_a)\n",
    "print(\"Optimal quantity for weekdays\", weekdays_optimal)\n",
    "print(\"Optimal quantity for weekend\", weekend_optimal)"
   ],
   "metadata": {
    "collapsed": false,
    "ExecuteTime": {
     "end_time": "2023-06-24T13:50:57.095576Z",
     "start_time": "2023-06-24T13:50:57.079305Z"
    }
   }
  },
  {
   "cell_type": "code",
   "execution_count": 73,
   "outputs": [],
   "source": [
    "# Parametric bootstrap interval estimation\n",
    "M = 10000\n",
    "n = 1000\n",
    "alpha = 0.05\n",
    "\n",
    "fridays_interval = bootstrap_interval_estimate_normal(tau_street_a, fridays_params)\n",
    "saturdays_interval = bootstrap_interval_estimate_normal(tau_street_a, saturdays_params)\n",
    "other_days_interval = bootstrap_interval_estimate_lognormal(tau_street_a, other_days_params)"
   ],
   "metadata": {
    "collapsed": false,
    "ExecuteTime": {
     "end_time": "2023-06-24T13:55:21.253923Z",
     "start_time": "2023-06-24T13:50:57.089118Z"
    }
   }
  },
  {
   "cell_type": "code",
   "execution_count": 74,
   "outputs": [
    {
     "name": "stdout",
     "output_type": "stream",
     "text": [
      "Main Street A - Fridays - inteval (93.46534999251541, 94.21616613387187)\n",
      "Main Street A - Saturdays - inteval (137.24131129687237, 139.25323698065029)\n",
      "Main Street A - other days - inteval (40.24757763316725, 42.21806854225656)\n"
     ]
    }
   ],
   "source": [
    "print(\"Main Street A - Fridays - inteval\", fridays_interval)\n",
    "print(\"Main Street A - Saturdays - inteval\", saturdays_interval)\n",
    "print(\"Main Street A - other days - inteval\", other_days_interval)"
   ],
   "metadata": {
    "collapsed": false,
    "ExecuteTime": {
     "end_time": "2023-06-24T13:55:21.256670Z",
     "start_time": "2023-06-24T13:55:21.254474Z"
    }
   }
  },
  {
   "cell_type": "code",
   "execution_count": 75,
   "outputs": [
    {
     "name": "stdout",
     "output_type": "stream",
     "text": [
      "Station A - weekdays - inteval (123.88660316915063, 127.89243957264465)\n",
      "Station A - weekend - inteval (66.703004655506, 67.94848547463582)\n"
     ]
    }
   ],
   "source": [
    "weekdays_interval = bootstrap_interval_estimate_gamma(tau_station_a, weekdays_params)\n",
    "weekend_interval = bootstrap_interval_estimate_normal(tau_station_a, weekend_params)\n",
    "print(\"Station A - weekdays - inteval\", weekdays_interval)\n",
    "print(\"Station A - weekend - inteval\", weekend_interval)"
   ],
   "metadata": {
    "collapsed": false,
    "ExecuteTime": {
     "end_time": "2023-06-24T13:56:41.695460Z",
     "start_time": "2023-06-24T13:55:21.258738Z"
    }
   }
  },
  {
   "cell_type": "code",
   "execution_count": 76,
   "outputs": [],
   "source": [
    "# non-parametric estimates\n",
    "\n",
    "fridays_optimal_nonparam = quantity_estimate_nonparametric(fridays['values'], tau_street_a)\n",
    "fridays_interval_nonparam = interval_estimate_nonparametric(fridays['values'], 0.05, tau_street_a)\n",
    "\n",
    "saturdays_optimal_nonparam = quantity_estimate_nonparametric(saturdays['values'], tau_street_a)\n",
    "saturdays_interval_nonparam = interval_estimate_nonparametric(saturdays['values'], 0.05, tau_street_a)\n",
    "\n",
    "other_days_optimal_nonparam = quantity_estimate_nonparametric(other_days['values'], tau_street_a)\n",
    "other_days_interval_nonparam = interval_estimate_nonparametric(other_days['values'], 0.05, tau_street_a)\n",
    "\n",
    "weekdays_optimal_nonparam = quantity_estimate_nonparametric(weekdays['values'], tau_station_a)\n",
    "weekdays_interval_nonparam = interval_estimate_nonparametric(weekdays['values'], 0.05, tau_station_a)\n",
    "\n",
    "weekend_optimal_nonparam = quantity_estimate_nonparametric(weekend['values'], tau_station_a)\n",
    "weekend_interval_nonparam = interval_estimate_nonparametric(weekend['values'], 0.05, tau_station_a)"
   ],
   "metadata": {
    "collapsed": false,
    "ExecuteTime": {
     "end_time": "2023-06-24T13:56:41.699998Z",
     "start_time": "2023-06-24T13:56:41.698460Z"
    }
   }
  },
  {
   "cell_type": "code",
   "execution_count": 77,
   "outputs": [
    {
     "name": "stdout",
     "output_type": "stream",
     "text": [
      "Fridays non-parametric estimate 101.34 (100.58, 102.18)\n",
      "Saturdays non-parametric estimate 158.44 (156.47, 160.28)\n",
      "Other days non-parametric estimate 40.75 (39.6, 41.67)\n",
      "Weekdays non-parametric estimate 132.3 (130.4, 135.49)\n",
      "Weekend non-parametric estimate 78.3 (76.97, 79.84)\n"
     ]
    }
   ],
   "source": [
    "print(\"Fridays non-parametric estimate\", fridays_optimal_nonparam, fridays_interval_nonparam)\n",
    "print(\"Saturdays non-parametric estimate\", saturdays_optimal_nonparam, saturdays_interval_nonparam)\n",
    "print(\"Other days non-parametric estimate\", other_days_optimal_nonparam, other_days_interval_nonparam)\n",
    "print(\"Weekdays non-parametric estimate\", weekdays_optimal_nonparam, weekdays_interval_nonparam)\n",
    "print(\"Weekend non-parametric estimate\", weekend_optimal_nonparam, weekend_interval_nonparam)"
   ],
   "metadata": {
    "collapsed": false,
    "ExecuteTime": {
     "end_time": "2023-06-24T13:56:41.703316Z",
     "start_time": "2023-06-24T13:56:41.701126Z"
    }
   }
  }
 ],
 "metadata": {
  "kernelspec": {
   "display_name": "Python 3",
   "language": "python",
   "name": "python3"
  },
  "language_info": {
   "codemirror_mode": {
    "name": "ipython",
    "version": 2
   },
   "file_extension": ".py",
   "mimetype": "text/x-python",
   "name": "python",
   "nbconvert_exporter": "python",
   "pygments_lexer": "ipython2",
   "version": "2.7.6"
  }
 },
 "nbformat": 4,
 "nbformat_minor": 0
}
