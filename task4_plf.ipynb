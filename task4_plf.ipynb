{
 "cells": [
  {
   "cell_type": "code",
   "execution_count": 1,
   "metadata": {
    "collapsed": true,
    "ExecuteTime": {
     "end_time": "2023-06-25T13:25:30.993971Z",
     "start_time": "2023-06-25T13:25:30.992284Z"
    }
   },
   "outputs": [],
   "source": [
    "from scipy.stats import norm\n",
    "import scipy.integrate as ing\n",
    "import numpy as np\n",
    "import numpy.random as rng\n",
    "import scipy.stats as sts\n"
   ]
  },
  {
   "cell_type": "code",
   "execution_count": 2,
   "outputs": [],
   "source": [
    "def calculate_performance(M, n, alpha, theta, mu, sigma, tau):\n",
    "    qstar = sts.gamma.ppf(tau,1.25,loc=0,scale=88)  #Qstar gamma distribution\n",
    "    profit_qstar = calculate_profit(qstar, tau)\n",
    "    profit_np_values = [] # store values profit\n",
    "    profit_p_values = []\n",
    "\n",
    "    for _ in range(M):\n",
    "        data = rng.gamma(alpha, scale=theta, size=n)\n",
    "\n",
    "        # parametric\n",
    "        sample_mean = np.mean(data)\n",
    "        sample_variance_unadj = np.var(data)\n",
    "        qparam = norm.ppf(tau, sample_mean, np.sqrt(sample_variance_unadj))\n",
    "        profit_param = calculate_profit(qparam, tau)# compute parametric profit\n",
    "        profit_p_values.append(profit_qstar - profit_param )\n",
    "\n",
    "        # non parametric\n",
    "        qnonparam = get_order_statistic(data, int(np.ceil(tau * n)-1)) # to improve\n",
    "        #add coomputing confidence interval\n",
    "        profit_np = calculate_profit(qnonparam, tau)\n",
    "        profit_np_values.append(profit_qstar - profit_np) #compute np profit\n",
    "\n",
    "    plr_np = (np.sum(abs((profit_np_values)/profit_qstar))/ M)\n",
    "    plr_p = (np.sum(abs((profit_p_values)/profit_qstar))/ M)\n",
    "    plr_ratio = plr_np / plr_p\n",
    "    return plr_ratio\n",
    "\n",
    "def get_order_statistic(data, order):\n",
    "    return np.partition(np.asarray(data), order)[order]\n",
    "\n",
    "def int_normal(y):\n",
    "    f = norm.pdf(y,loc=120,scale=15)\n",
    "    return y * f\n",
    "\n",
    "def calculate_profit(Q, tau):\n",
    "    c = 1-tau\n",
    "    p = 1\n",
    "    t1 = p * ing.quad(int_normal,0,Q)[0]\n",
    "    t2 = p * Q * norm.sf(Q,loc=120,scale=15)        # .sf is the survival function, i.e., 1-F(x)\n",
    "    t3 = c * Q\n",
    "\n",
    "    profit = t1 + t2 - t3\n",
    "    return profit"
   ],
   "metadata": {
    "collapsed": false,
    "ExecuteTime": {
     "end_time": "2023-06-25T13:25:31.001033Z",
     "start_time": "2023-06-25T13:25:30.994297Z"
    }
   }
  },
  {
   "cell_type": "code",
   "execution_count": 3,
   "outputs": [
    {
     "name": "stdout",
     "output_type": "stream",
     "text": [
      "0.13037203022763244\n",
      "0.21869623895757626\n",
      "0.4023453871789173\n",
      "0.8234966265695481\n",
      "1.2328798206825433\n",
      "1.121582169894151\n",
      "1.0743269686982524\n",
      "1.1568810581875513\n",
      "1.1630593778903229\n",
      "0.023037636536479614\n",
      "0.06666856133421944\n",
      "0.1680767208712955\n",
      "0.5845528654750686\n",
      "0.5534728715518696\n",
      "0.45464863443709486\n",
      "1.1367231827526014\n",
      "0.9630879997532115\n",
      "0.7729221240825775\n",
      "0.01264133572262951\n",
      "0.04347495433944088\n",
      "0.10953561010256221\n",
      "0.4390819933899419\n",
      "0.37539855987791027\n",
      "0.27498138834153163\n",
      "1.1458006583931866\n",
      "0.8081589610250344\n",
      "0.58047542007676\n",
      "0.009144624450170252\n",
      "0.03132559755884584\n",
      "0.07767677132418774\n",
      "0.3458025779004366\n",
      "0.2493479325093364\n",
      "0.16076818155744027\n",
      "1.1267638984347514\n",
      "0.6739881120455521\n",
      "0.4297932446238672\n"
     ]
    }
   ],
   "source": [
    "def main():\n",
    "    n = [10, 50, 100, 200]\n",
    "    tau = [0.01, 0.05, 0.1, 0.3, 0.5, 0.7, 0.9, 0.95, 0.99]\n",
    "    M = 1000\n",
    "    alpha = 1.25\n",
    "    theta = 88\n",
    "    mu = 120\n",
    "    sigma = 15\n",
    "\n",
    "    for i in n:\n",
    "        for j in tau:\n",
    "            print(calculate_performance(M, i, alpha, theta, mu, sigma, j))\n",
    "\n",
    "main()"
   ],
   "metadata": {
    "collapsed": false,
    "ExecuteTime": {
     "end_time": "2023-06-25T13:28:05.212883Z",
     "start_time": "2023-06-25T13:25:31.001881Z"
    }
   }
  }
 ],
 "metadata": {
  "kernelspec": {
   "display_name": "Python 3",
   "language": "python",
   "name": "python3"
  },
  "language_info": {
   "codemirror_mode": {
    "name": "ipython",
    "version": 2
   },
   "file_extension": ".py",
   "mimetype": "text/x-python",
   "name": "python",
   "nbconvert_exporter": "python",
   "pygments_lexer": "ipython2",
   "version": "2.7.6"
  }
 },
 "nbformat": 4,
 "nbformat_minor": 0
}
