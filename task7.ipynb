{
 "cells": [
  {
   "cell_type": "code",
   "execution_count": 82,
   "metadata": {
    "collapsed": true,
    "ExecuteTime": {
     "end_time": "2023-06-25T13:03:58.597773Z",
     "start_time": "2023-06-25T13:03:58.597036Z"
    }
   },
   "outputs": [],
   "source": [
    "import matplotlib.pyplot as plt\n",
    "import numpy as np\n",
    "import pandas as pd\n",
    "from scipy.stats import norm\n",
    "from scipy.stats import lognorm\n",
    "from scipy.optimize import fsolve\n",
    "from scipy.integrate import quad\n",
    "import seaborn as sns\n",
    "sns.set_theme(style='white')"
   ]
  },
  {
   "cell_type": "code",
   "execution_count": 83,
   "outputs": [],
   "source": [
    "# filter out corona data and data before 2017\n",
    "def filter_out_data(data):\n",
    "    start_corona_remove = pd.to_datetime('2020-10-01')\n",
    "    end_corona_remove = pd.to_datetime('2022-10-01')\n",
    "    start_remove = pd.to_datetime('2017-01-01')\n",
    "    filtered_data = data.loc[(data.date < start_corona_remove) | (data.date > end_corona_remove)]\n",
    "    filtered_data = filtered_data.loc[(filtered_data.date > start_remove)]\n",
    "    return filtered_data"
   ],
   "metadata": {
    "collapsed": false,
    "ExecuteTime": {
     "end_time": "2023-06-25T13:03:58.604474Z",
     "start_time": "2023-06-25T13:03:58.598805Z"
    }
   }
  },
  {
   "cell_type": "code",
   "execution_count": 84,
   "outputs": [],
   "source": [
    "data = pd.read_excel('data/BakeryData_Vilnius.xlsx')\n",
    "data['date'] = pd.to_datetime(data['date'], format='%Y-%m-%d')\n",
    "streetAData = data[['date', 'weekday', 'main street A']].rename(columns={'main street A': 'values'}).dropna()\n",
    "filtered_data_streeta = filter_out_data(streetAData)\n",
    "other_days, saturdays = [x for _, x in filtered_data_streeta.groupby(filtered_data_streeta['weekday'] == 6)]\n",
    "other_days, fridays =  [x for _, x in other_days.groupby(filtered_data_streeta['weekday'] == 5)]"
   ],
   "metadata": {
    "collapsed": false,
    "ExecuteTime": {
     "end_time": "2023-06-25T13:03:58.686365Z",
     "start_time": "2023-06-25T13:03:58.603934Z"
    }
   }
  },
  {
   "cell_type": "code",
   "execution_count": 85,
   "outputs": [],
   "source": [
    "def get_adj_profit_normal(rp, mu, sigma):\n",
    "    # demand drop ratio\n",
    "    ry = np.power(1 + np.exp(6 - np.divide(rp * 100, 10)), -1) - 0.0025\n",
    "\n",
    "    # mean\n",
    "    mu_adj = mu / (1 + ry)\n",
    "\n",
    "    # sigma\n",
    "    sigma_adj = sigma / (1 + ry)\n",
    "\n",
    "    # target service level\n",
    "    level_ajd = ((1 + rp) * p - (1 + rc) * c) / ((1 + rp) * p + cs - pl)\n",
    "\n",
    "    # optimal order quantity after price increase\n",
    "    qstar_adj = norm.ppf(level_ajd, mu_adj, sigma_adj)\n",
    "\n",
    "    return (p * (1 + rp) - c * (1 + rc)) * qstar_adj \\\n",
    "        - (p * (1 + rp) + cs - pl) * quad(lambda y: norm.cdf(y, loc=mu_adj, scale=sigma_adj), -np.inf, qstar_adj)[0]\n",
    "\n",
    "\n",
    "def get_adj_profit_lognormal(rp, mu, sigma):\n",
    "    # demand drop ratio\n",
    "    ry = np.power(1 + np.exp(6 - np.divide(rp * 100, 10)), -1) - 0.0025\n",
    "\n",
    "    # mean\n",
    "    mu_adj = np.exp(mu - np.log(1 + ry))\n",
    "\n",
    "    # target service level\n",
    "    level_ajd = ((1 + rp) * p - (1 + rc) * c) / ((1 + rp) * p + cs - pl)\n",
    "\n",
    "    # optimal order quantity after price increase\n",
    "    qstar_adj = lognorm.ppf(level_ajd, sigma, 0, mu_adj)\n",
    "\n",
    "    return (p * (1 + rp) - c * (1 + rc)) * qstar_adj \\\n",
    "        - (p * (1 + rp) + cs - pl) * quad(lambda y: lognorm.cdf(y, sigma, 0, mu_adj), -np.inf, qstar_adj)[0]\n",
    "\n",
    "\n",
    "def calculate_tau(p, c, cs, pl):\n",
    "    p_tilde = p + cs + pl\n",
    "    c_tilde = c + cs + pl\n",
    "    return (p_tilde - c_tilde) / p_tilde"
   ],
   "metadata": {
    "collapsed": false,
    "ExecuteTime": {
     "end_time": "2023-06-25T13:03:58.690872Z",
     "start_time": "2023-06-25T13:03:58.689106Z"
    }
   }
  },
  {
   "cell_type": "code",
   "execution_count": 86,
   "outputs": [],
   "source": [
    "p = 4.64  # price\n",
    "c = 3.85  # cost\n",
    "rc = 0.25  # increase in cost\n",
    "cs = 0.11 # shipping cost\n",
    "pl = 0.15 # clearance price\n",
    "p_tilde = p + cs + pl\n",
    "tau = calculate_tau(p, c, cs, pl) # target service level\n",
    "fridays_params = norm.fit(fridays['values'])\n",
    "saturdays_params = norm.fit(saturdays['values'])\n",
    "other_days_params = norm.fit(np.log(other_days['values']))"
   ],
   "metadata": {
    "collapsed": false,
    "ExecuteTime": {
     "end_time": "2023-06-25T13:03:58.694889Z",
     "start_time": "2023-06-25T13:03:58.693563Z"
    }
   }
  },
  {
   "cell_type": "code",
   "execution_count": 87,
   "outputs": [],
   "source": [
    "# optimal order quantity before price increase for fridays\n",
    "fridays_qstar = norm.ppf(tau, fridays_params[0], fridays_params[1])\n",
    "\n",
    "# optimal order quantity before price increase for saturdays\n",
    "saturdays_qstar = norm.ppf(tau, saturdays_params[0], saturdays_params[1])\n",
    "\n",
    "# optimal order quantity before price increase for other days\n",
    "other_days_qstar = lognorm.ppf(tau, other_days_params[1], 0, np.exp(other_days_params[0]))\n",
    "\n",
    "# expected profit for fridays before price increase\n",
    "fridays_expected_profit = (p - c) * fridays_qstar - p_tilde * \\\n",
    "                          quad(lambda y: norm.cdf(y, fridays_params[0], fridays_params[1]), -np.inf, fridays_qstar)[0]\n",
    "\n",
    "# expected profit for saturdays before price increase\n",
    "saturdays_expected_profit = (p - c) * saturdays_qstar - p_tilde * \\\n",
    "                            quad(lambda y: norm.cdf(y, saturdays_params[0], saturdays_params[1]), -np.inf,\n",
    "                                 saturdays_qstar)[0]\n",
    "\n",
    "# expected profit for other days before price increase\n",
    "other_days_expected_profit = (p - c) * other_days_qstar - p_tilde * quad(\n",
    "    lambda y: lognorm.cdf(y, other_days_params[1], 0, np.exp(other_days_params[0])), -np.inf,\n",
    "    other_days_qstar)[0]\n",
    "\n",
    "# expected profit for one week before price increase\n",
    "expected_profit = 5 * other_days_expected_profit + fridays_expected_profit + saturdays_expected_profit\n",
    "\n",
    "\n",
    "def calculate_profit_difference(rp):\n",
    "    return calculate_adj_profit(rp) - expected_profit\n",
    "\n",
    "\n",
    "def calculate_adj_profit(rp):\n",
    "    fridays_adjusted_profit = get_adj_profit_normal(rp, fridays_params[0], fridays_params[1])\n",
    "    saturdays_adjusted_profit = get_adj_profit_normal(rp, saturdays_params[0], saturdays_params[1])\n",
    "    other_days_adjusted_profit = get_adj_profit_lognormal(rp, other_days_params[0], other_days_params[1])\n",
    "    return 5 * other_days_adjusted_profit + fridays_adjusted_profit + saturdays_adjusted_profit\n",
    "\n",
    "\n",
    "# solve the equation for finding optimal price increase\n",
    "optimal_price_increase = fsolve(calculate_profit_difference, [1])[0]"
   ],
   "metadata": {
    "collapsed": false,
    "ExecuteTime": {
     "end_time": "2023-06-25T13:03:58.838722Z",
     "start_time": "2023-06-25T13:03:58.698129Z"
    }
   }
  },
  {
   "cell_type": "code",
   "execution_count": 88,
   "outputs": [
    {
     "name": "stdout",
     "output_type": "stream",
     "text": [
      "Optimal price increase  0.21215944849449844\n",
      "Expected profit  316.0314081263845\n"
     ]
    }
   ],
   "source": [
    "print(\"Optimal price increase \", optimal_price_increase)\n",
    "print(\"Expected profit \", expected_profit)"
   ],
   "metadata": {
    "collapsed": false,
    "ExecuteTime": {
     "end_time": "2023-06-25T13:03:58.841418Z",
     "start_time": "2023-06-25T13:03:58.839198Z"
    }
   }
  },
  {
   "cell_type": "code",
   "execution_count": 89,
   "outputs": [
    {
     "data": {
      "text/plain": "Text(0.5, 1.0, 'Expected profit with regards to price increase ratio')"
     },
     "execution_count": 89,
     "metadata": {},
     "output_type": "execute_result"
    },
    {
     "data": {
      "text/plain": "<Figure size 640x480 with 1 Axes>",
      "image/png": "[encoded data removed]"
     },
     "metadata": {},
     "output_type": "display_data"
    }
   ],
   "source": [
    "price_increase = np.linspace(0, 1, 1000)\n",
    "\n",
    "expected_profit_adj = []\n",
    "\n",
    "for i in price_increase:\n",
    "    expected_profit_adj.append(calculate_adj_profit(i))\n",
    "\n",
    "plt.plot(price_increase, expected_profit_adj)\n",
    "plt.plot(optimal_price_increase, expected_profit, \"s\")\n",
    "plt.xlabel(\"Price increase\")\n",
    "plt.ylabel(\"Expected profit\")\n",
    "plt.title(\"Expected profit with regards to price increase ratio\")"
   ],
   "metadata": {
    "collapsed": false,
    "ExecuteTime": {
     "end_time": "2023-06-25T13:04:11.932636Z",
     "start_time": "2023-06-25T13:03:58.841789Z"
    }
   }
  },
  {
   "cell_type": "code",
   "execution_count": 89,
   "outputs": [],
   "source": [],
   "metadata": {
    "collapsed": false,
    "ExecuteTime": {
     "end_time": "2023-06-25T13:04:11.934528Z",
     "start_time": "2023-06-25T13:04:11.933162Z"
    }
   }
  }
 ],
 "metadata": {
  "kernelspec": {
   "display_name": "Python 3",
   "language": "python",
   "name": "python3"
  },
  "language_info": {
   "codemirror_mode": {
    "name": "ipython",
    "version": 2
   },
   "file_extension": ".py",
   "mimetype": "text/x-python",
   "name": "python",
   "nbconvert_exporter": "python",
   "pygments_lexer": "ipython2",
   "version": "2.7.6"
  }
 },
 "nbformat": 4,
 "nbformat_minor": 0
}
