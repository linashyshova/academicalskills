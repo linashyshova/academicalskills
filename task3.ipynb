{
 "cells": [
  {
   "cell_type": "code",
   "execution_count": 25,
   "metadata": {
    "collapsed": true
   },
   "outputs": [],
   "source": [
    "import matplotlib.pyplot as plt\n",
    "from scipy.stats import norm\n",
    "from scipy.integrate import quad\n",
    "import numpy as np"
   ]
  },
  {
   "cell_type": "code",
   "execution_count": 26,
   "outputs": [],
   "source": [
    "n = [10, 50, 100, 200]\n",
    "tau = [0.01, 0.05, 0.1, 0.3, 0.5, 0.7, 0.9, 0.95, 0.9]\n",
    "M = 1000\n",
    "mu = 120\n",
    "sigma = 15"
   ],
   "metadata": {
    "collapsed": false
   }
  },
  {
   "cell_type": "code",
   "execution_count": 27,
   "outputs": [],
   "source": [
    "def calculate_performance(M, n, mu, sigma, tau):\n",
    "    qstar = norm.ppf(tau, mu, sigma)\n",
    "    rmse_np_values = []\n",
    "    rmse_p_values = []\n",
    "\n",
    "    for _ in range(M):\n",
    "        data = norm.rvs(size=n, loc=mu, scale=sigma)\n",
    "\n",
    "        # parametric\n",
    "        sample_mean = np.mean(data)\n",
    "        sample_variance_unadj = np.var(data)\n",
    "        qparam = norm.ppf(tau, sample_mean, np.sqrt(sample_variance_unadj))\n",
    "        rmse_p_values.append(qparam - qstar)\n",
    "\n",
    "        # non parametric\n",
    "        qnonparam = get_order_statistic(data, int(np.ceil(tau * n)) - 1) # to improve\n",
    "        rmse_np_values.append(qnonparam - qstar)\n",
    "\n",
    "    rmse_np = np.sqrt(np.sum(np.square(rmse_np_values)) / M)\n",
    "    rmse_p = np.sqrt(np.sum(np.square(rmse_p_values)) / M)\n",
    "    rmse_ratio = rmse_np / rmse_p\n",
    "    return rmse_ratio\n",
    "\n",
    "\n",
    "def get_order_statistic(data, order):\n",
    "    return np.partition(np.asarray(data), order)[order]"
   ],
   "metadata": {
    "collapsed": false
   }
  },
  {
   "cell_type": "code",
   "execution_count": 28,
   "outputs": [
    {
     "name": "stdout",
     "output_type": "stream",
     "text": [
      "1.5267096258848702\n",
      "1.2366603285696776\n",
      "1.4996114949997401\n",
      "1.3321280687467905\n",
      "1.2844779953988343\n",
      "1.2520438038541806\n",
      "1.2598369464513344\n",
      "1.1820630574326176\n",
      "1.2419620487298266\n",
      "1.703072052387326\n",
      "1.3210242336494586\n",
      "1.3240695148508133\n",
      "1.2529167985007736\n",
      "1.225232844947596\n",
      "1.29460563405819\n",
      "1.3117691238564053\n",
      "1.3469487615987925\n",
      "1.27071021543696\n",
      "2.4373327088740537\n",
      "1.398025142371722\n",
      "1.3111282557180906\n",
      "1.2325424374648093\n",
      "1.2844975140015131\n",
      "1.2381732408987092\n",
      "1.2581121776553819\n",
      "1.3458207096945034\n",
      "1.2931058583754507\n",
      "2.094221428375323\n",
      "1.4124559289311291\n",
      "1.2800100598176654\n",
      "1.2502749920047451\n",
      "1.267695281647959\n",
      "1.2342380523330594\n",
      "1.2555417112623055\n",
      "1.4143990562980644\n",
      "1.302914813329497\n"
     ]
    }
   ],
   "source": [
    "for i in n:\n",
    "    for j in tau:\n",
    "        print(calculate_performance(M, i, mu, sigma, j))"
   ],
   "metadata": {
    "collapsed": false
   }
  }
 ],
 "metadata": {
  "kernelspec": {
   "display_name": "Python 3",
   "language": "python",
   "name": "python3"
  },
  "language_info": {
   "codemirror_mode": {
    "name": "ipython",
    "version": 2
   },
   "file_extension": ".py",
   "mimetype": "text/x-python",
   "name": "python",
   "nbconvert_exporter": "python",
   "pygments_lexer": "ipython2",
   "version": "2.7.6"
  }
 },
 "nbformat": 4,
 "nbformat_minor": 0
}
