{
 "cells": [
  {
   "cell_type": "code",
   "execution_count": 1,
   "metadata": {
    "collapsed": true
   },
   "outputs": [],
   "source": [
    "from scipy.stats import norm\n",
    "import scipy.integrate as ing\n",
    "import numpy as np"
   ]
  },
  {
   "cell_type": "code",
   "execution_count": 2,
   "outputs": [],
   "source": [
    "def calculate_performance(M, n, mu, sigma, tau):\n",
    "    qstar = norm.ppf(tau, mu, sigma)\n",
    "    profit_qstar = calculate_profit(qstar, tau)\n",
    "    profit_np_values = []\n",
    "    profit_p_values = []\n",
    "\n",
    "    for _ in range(M):\n",
    "        data = norm.rvs(size=n, loc=mu, scale=sigma)\n",
    "\n",
    "        # parametric\n",
    "        sample_mean = np.mean(data)\n",
    "        sample_variance_unadj = np.var(data)\n",
    "        qparam = norm.ppf(tau, sample_mean, np.sqrt(sample_variance_unadj))\n",
    "        profit_param = calculate_profit(qparam, tau)  # compute parametric profit\n",
    "        profit_p_values.append(profit_qstar - profit_param)\n",
    "\n",
    "        # non parametric\n",
    "        qnonparam = get_order_statistic(data, int(np.ceil(tau * n)) - 1)  # to improve\n",
    "        profit_np = calculate_profit(qnonparam, tau)\n",
    "        profit_np_values.append(profit_qstar - profit_np)  #compute np profit\n",
    "\n",
    "    plr_np = (np.sum(abs(profit_np_values / profit_qstar)) / M)\n",
    "    plr_p = (np.sum(abs(profit_p_values / profit_qstar)) / M)\n",
    "    plr_ratio = plr_np / plr_p\n",
    "    return plr_ratio\n",
    "\n",
    "\n",
    "def get_order_statistic(data, order):\n",
    "    return np.partition(np.asarray(data), order)[order]\n",
    "\n",
    "\n",
    "def int_normal(y):\n",
    "    f = norm.pdf(y, loc=120, scale=15)\n",
    "    return y * f\n",
    "\n",
    "\n",
    "def calculate_profit(Q, tau):\n",
    "    c = 1 - tau\n",
    "    p = 1\n",
    "    t1 = p * ing.quad(int_normal, 0, Q)[0]\n",
    "    t2 = p * Q * norm.sf(Q, loc=120, scale=15)  # .sf is the survival function, i.e., 1-F(x)\n",
    "    t3 = c * Q\n",
    "\n",
    "    profit = t1 + t2 - t3\n",
    "    return profit"
   ],
   "metadata": {
    "collapsed": false
   }
  },
  {
   "cell_type": "code",
   "execution_count": 3,
   "outputs": [
    {
     "name": "stdout",
     "output_type": "stream",
     "text": [
      "4.164121448809176\n",
      "1.350154366949227\n",
      "1.350981276052725\n",
      "1.5578872147085883\n",
      "1.6288526147174818\n",
      "1.620709304294041\n",
      "1.6485265000559648\n",
      "1.3535937843398052\n",
      "3.946436933155042\n",
      "3.057704960259069\n",
      "1.7273595069492753\n",
      "1.629524895504108\n",
      "1.5510206573583079\n",
      "1.6219097458598788\n",
      "1.592615668870078\n",
      "1.6021786310281831\n",
      "1.8015400891084878\n",
      "3.004409964798946\n",
      "3.779483988688139\n",
      "1.886454856523351\n",
      "1.5485840342181327\n",
      "1.5383931808693072\n",
      "1.6267797404654263\n",
      "1.5076950998145493\n",
      "1.5744163443913282\n",
      "1.95058353894599\n",
      "4.564804221915\n",
      "3.8770642107408606\n",
      "1.9299500348024312\n",
      "1.676077559160322\n",
      "1.510959961798838\n",
      "1.4459938136193948\n",
      "1.5229611399421548\n",
      "1.7223625824591682\n",
      "1.895440351628185\n",
      "4.237907757627279\n"
     ]
    }
   ],
   "source": [
    "def main():\n",
    "    n = [10, 50, 100, 200]\n",
    "    tau = [0.01, 0.05, 0.1, 0.3, 0.5, 0.7, 0.9, 0.95, 0.99]\n",
    "    M = 1000\n",
    "    mu = 120\n",
    "    sigma = 15\n",
    "\n",
    "    for i in n:\n",
    "        for j in tau:\n",
    "            print(calculate_performance(M, i, mu, sigma, j))\n",
    "\n",
    "\n",
    "main()"
   ],
   "metadata": {
    "collapsed": false
   }
  }
 ],
 "metadata": {
  "kernelspec": {
   "display_name": "Python 3",
   "language": "python",
   "name": "python3"
  },
  "language_info": {
   "codemirror_mode": {
    "name": "ipython",
    "version": 2
   },
   "file_extension": ".py",
   "mimetype": "text/x-python",
   "name": "python",
   "nbconvert_exporter": "python",
   "pygments_lexer": "ipython2",
   "version": "2.7.6"
  }
 },
 "nbformat": 4,
 "nbformat_minor": 0
}
